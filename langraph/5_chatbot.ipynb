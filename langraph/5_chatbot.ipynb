{
 "cells": [
  {
   "cell_type": "code",
   "execution_count": 13,
   "id": "51b1fa74",
   "metadata": {},
   "outputs": [],
   "source": [
    "from langgraph.graph import StateGraph, START, END\n",
    "from typing import TypedDict, Annotated\n",
    "from langchain_core.messages import BaseMessage, HumanMessage\n",
    "from langchain_google_genai import ChatGoogleGenerativeAI\n",
    "from langgraph.checkpoint.memory import MemorySaver"
   ]
  },
  {
   "cell_type": "code",
   "execution_count": 14,
   "id": "88c0f268",
   "metadata": {},
   "outputs": [],
   "source": [
    "from langgraph.graph.message import add_messages\n",
    "\n",
    "class ChatState(TypedDict):\n",
    "\n",
    "    messages: Annotated[list[BaseMessage], add_messages]"
   ]
  },
  {
   "cell_type": "code",
   "execution_count": 15,
   "id": "4a7bfced",
   "metadata": {},
   "outputs": [],
   "source": [
    "llm = ChatGoogleGenerativeAI(model='gemini-2.0-flash')\n",
    "\n",
    "def chat_node(state: ChatState):\n",
    "\n",
    "    # take user query from state\n",
    "    messages = state['messages']\n",
    "\n",
    "    # send to llm\n",
    "    response = llm.invoke(messages)\n",
    "\n",
    "    # response store state\n",
    "    return {'messages': [response]}"
   ]
  },
  {
   "cell_type": "code",
   "execution_count": 20,
   "id": "00f7d098",
   "metadata": {},
   "outputs": [],
   "source": [
    "checkpointer = MemorySaver()\n",
    "graph = StateGraph(ChatState)\n",
    "\n",
    "# add nodes\n",
    "graph.add_node('chat_node', chat_node)\n",
    "\n",
    "graph.add_edge(START, 'chat_node')\n",
    "graph.add_edge('chat_node', END)\n",
    "\n",
    "chatbot = graph.compile(checkpointer= checkpointer)"
   ]
  },
  {
   "cell_type": "code",
   "execution_count": 21,
   "id": "d116f934",
   "metadata": {},
   "outputs": [],
   "source": [
    "# chatbot"
   ]
  },
  {
   "cell_type": "code",
   "execution_count": 6,
   "id": "5de83131",
   "metadata": {},
   "outputs": [
    {
     "data": {
      "text/plain": [
       "'The capital of India is **New Delhi**.'"
      ]
     },
     "execution_count": 6,
     "metadata": {},
     "output_type": "execute_result"
    }
   ],
   "source": [
    "initial_state = {\n",
    "    'messages': [HumanMessage(content='What is the capital of india')]\n",
    "}\n",
    "\n",
    "chatbot.invoke(initial_state)['messages'][-1].content"
   ]
  },
  {
   "cell_type": "code",
   "execution_count": 22,
   "id": "f1049bc8",
   "metadata": {},
   "outputs": [
    {
     "name": "stdout",
     "output_type": "stream",
     "text": [
      "User: hi my name is daniyal\n",
      "AI:  Hi Daniyal, it's nice to meet you! How can I help you today?\n",
      "User: what is my name\n",
      "AI:  Your name is Daniyal. You just told me! 😊\n",
      "User: thanks\n",
      "AI:  You're welcome, Daniyal! Is there anything else I can help you with?\n",
      "User: no\n",
      "AI:  Okay, have a great day, Daniyal!\n",
      "User: thanks\n",
      "AI:  You're very welcome! Take care.\n",
      "User: bye\n"
     ]
    }
   ],
   "source": [
    "thread_id= '1' #it is the id that is assigned to a particular conversation\n",
    "while True:\n",
    "    user_message= input(\"User: \")\n",
    "    print(\"User:\", user_message)\n",
    "\n",
    "    if user_message.strip().lower() in ['exit', 'quit', 'bye']:\n",
    "        break\n",
    "    \n",
    "    config= {\n",
    "        'configurable':{ 'thread_id': thread_id}\n",
    "    }\n",
    "\n",
    "    initial_state = {\n",
    "    'messages': [HumanMessage(content= user_message)]\n",
    "    }\n",
    "    response= chatbot.invoke(initial_state, config= config)\n",
    "\n",
    "    print(\"AI: \", response['messages'][-1].content)\n",
    "\n",
    "#in this memory is not getting retain because we are using for loop and every time initial state is getting reset\n",
    "#as full workflow is exexuted from start to end in every loop  "
   ]
  },
  {
   "cell_type": "code",
   "execution_count": null,
   "id": "85a60b7f",
   "metadata": {},
   "outputs": [],
   "source": []
  }
 ],
 "metadata": {
  "kernelspec": {
   "display_name": "genAI",
   "language": "python",
   "name": "python3"
  },
  "language_info": {
   "codemirror_mode": {
    "name": "ipython",
    "version": 3
   },
   "file_extension": ".py",
   "mimetype": "text/x-python",
   "name": "python",
   "nbconvert_exporter": "python",
   "pygments_lexer": "ipython3",
   "version": "3.10.14"
  }
 },
 "nbformat": 4,
 "nbformat_minor": 5
}
