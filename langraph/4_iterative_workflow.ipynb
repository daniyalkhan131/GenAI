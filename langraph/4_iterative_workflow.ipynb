{
 "cells": [
  {
   "cell_type": "markdown",
   "id": "d1f816b1",
   "metadata": {},
   "source": [
    "### X post generator"
   ]
  },
  {
   "cell_type": "code",
   "execution_count": 2,
   "id": "e522d613",
   "metadata": {},
   "outputs": [],
   "source": [
    "from langgraph.graph import StateGraph,START, END\n",
    "from typing import TypedDict, Literal, Annotated\n",
    "from langchain_google_genai import ChatGoogleGenerativeAI\n",
    "from langchain_core.messages import SystemMessage, HumanMessage\n",
    "import operator"
   ]
  },
  {
   "cell_type": "code",
   "execution_count": 3,
   "id": "c62a4c8e",
   "metadata": {},
   "outputs": [],
   "source": [
    "\n",
    "generator_llm = ChatGoogleGenerativeAI(model='gemini-2.0-flash')\n",
    "evaluator_llm = ChatGoogleGenerativeAI(model='gemini-2.0-flash')\n",
    "optimizer_llm = ChatGoogleGenerativeAI(model='gemini-2.0-flash')"
   ]
  },
  {
   "cell_type": "code",
   "execution_count": 4,
   "id": "6fb70f75",
   "metadata": {},
   "outputs": [],
   "source": [
    "from pydantic import BaseModel, Field\n",
    "\n",
    "class TweetEvaluation(BaseModel):\n",
    "    evaluation: Literal[\"approved\", \"needs_improvement\"] = Field(..., description=\"Final evaluation result.\")\n",
    "    feedback: str = Field(..., description=\"feedback for the tweet.\")"
   ]
  },
  {
   "cell_type": "code",
   "execution_count": 5,
   "id": "6bc9fda6",
   "metadata": {},
   "outputs": [],
   "source": [
    "structured_evaluator_llm = evaluator_llm.with_structured_output(TweetEvaluation)"
   ]
  },
  {
   "cell_type": "code",
   "execution_count": 6,
   "id": "6fe16cc0",
   "metadata": {},
   "outputs": [],
   "source": [
    "# state\n",
    "class TweetState(TypedDict):\n",
    "\n",
    "    topic: str\n",
    "    tweet: str\n",
    "    evaluation: Literal[\"approved\", \"needs_improvement\"]\n",
    "    feedback: str\n",
    "    iteration: int\n",
    "    max_iteration: int\n",
    "\n",
    "    tweet_history: Annotated[list[str], operator.add]\n",
    "    feedback_history: Annotated[list[str], operator.add]"
   ]
  },
  {
   "cell_type": "code",
   "execution_count": 7,
   "id": "da78bf48",
   "metadata": {},
   "outputs": [],
   "source": [
    "def generate_tweet(state: TweetState):\n",
    "\n",
    "    # prompt\n",
    "    messages = [\n",
    "        SystemMessage(content=\"You are a funny and clever Twitter/X influencer.\"),\n",
    "        HumanMessage(content=f\"\"\"\n",
    "Write a short, original, and hilarious tweet on the topic: \"{state['topic']}\".\n",
    "\n",
    "Rules:\n",
    "- Do NOT use question-answer format.\n",
    "- Max 280 characters.\n",
    "- Use observational humor, irony, sarcasm, or cultural references.\n",
    "- Think in meme logic, punchlines, or relatable takes.\n",
    "- Use simple, day to day english\n",
    "\"\"\")\n",
    "    ]\n",
    "\n",
    "    # send generator_llm\n",
    "    response = generator_llm.invoke(messages).content\n",
    "\n",
    "    # return response\n",
    "    return {'tweet': response, 'tweet_history': [response]}"
   ]
  },
  {
   "cell_type": "code",
   "execution_count": 8,
   "id": "b3eaa864",
   "metadata": {},
   "outputs": [],
   "source": [
    "def evaluate_tweet(state: TweetState):\n",
    "\n",
    "    # prompt\n",
    "    messages = [\n",
    "    SystemMessage(content=\"You are a ruthless, no-laugh-given Twitter critic. You evaluate tweets based on humor, originality, virality, and tweet format.\"),\n",
    "    HumanMessage(content=f\"\"\"\n",
    "Evaluate the following tweet:\n",
    "\n",
    "Tweet: \"{state['tweet']}\"\n",
    "\n",
    "Use the criteria below to evaluate the tweet:\n",
    "\n",
    "1. Originality – Is this fresh, or have you seen it a hundred times before?  \n",
    "2. Humor – Did it genuinely make you smile, laugh, or chuckle?  \n",
    "3. Punchiness – Is it short, sharp, and scroll-stopping?  \n",
    "4. Virality Potential – Would people retweet or share it?  \n",
    "5. Format – Is it a well-formed tweet (not a setup-punchline joke, not a Q&A joke, and under 280 characters)?\n",
    "\n",
    "Auto-reject if:\n",
    "- It's written in question-answer format (e.g., \"Why did...\" or \"What happens when...\")\n",
    "- It exceeds 280 characters\n",
    "- It reads like a traditional setup-punchline joke\n",
    "- Dont end with generic, throwaway, or deflating lines that weaken the humor (e.g., “Masterpieces of the auntie-uncle universe” or vague summaries)\n",
    "\n",
    "### Respond ONLY in structured format:\n",
    "- evaluation: \"approved\" or \"needs_improvement\"  \n",
    "- feedback: One paragraph explaining the strengths and weaknesses \n",
    "\"\"\")\n",
    "]\n",
    "\n",
    "    response = structured_evaluator_llm.invoke(messages)\n",
    "\n",
    "    return {'evaluation':response.evaluation, 'feedback': response.feedback, 'feedback_history': [response.feedback]}"
   ]
  },
  {
   "cell_type": "code",
   "execution_count": 9,
   "id": "647aa224",
   "metadata": {},
   "outputs": [],
   "source": [
    "def optimize_tweet(state: TweetState):\n",
    "\n",
    "    messages = [\n",
    "        SystemMessage(content=\"You punch up tweets for virality and humor based on given feedback.\"),\n",
    "        HumanMessage(content=f\"\"\"\n",
    "Improve the tweet based on this feedback:\n",
    "\"{state['feedback']}\"\n",
    "\n",
    "Topic: \"{state['topic']}\"\n",
    "Original Tweet:\n",
    "{state['tweet']}\n",
    "\n",
    "Re-write it as a short, viral-worthy tweet. Avoid Q&A style and stay under 280 characters.\n",
    "\"\"\")\n",
    "    ]\n",
    "\n",
    "    response = optimizer_llm.invoke(messages).content\n",
    "    iteration = state['iteration'] + 1\n",
    "\n",
    "    return {'tweet': response, 'iteration': iteration, 'tweet_history': [response]}"
   ]
  },
  {
   "cell_type": "code",
   "execution_count": 10,
   "id": "e2094569",
   "metadata": {},
   "outputs": [],
   "source": [
    "def route_evaluation(state: TweetState):\n",
    "\n",
    "    if state['evaluation'] == 'approved' or state['iteration'] >= state['max_iteration']:\n",
    "        return 'approved'\n",
    "    else:\n",
    "        return 'needs_improvement'"
   ]
  },
  {
   "cell_type": "code",
   "execution_count": 11,
   "id": "0b61fa17",
   "metadata": {},
   "outputs": [
    {
     "data": {
      "image/png": "[encoded data removed]",
      "text/plain": [
       "<langgraph.graph.state.CompiledStateGraph object at 0x10c862b60>"
      ]
     },
     "execution_count": 11,
     "metadata": {},
     "output_type": "execute_result"
    }
   ],
   "source": [
    "graph = StateGraph(TweetState)\n",
    "\n",
    "graph.add_node('generate', generate_tweet)\n",
    "graph.add_node('evaluate', evaluate_tweet)\n",
    "graph.add_node('optimize', optimize_tweet)\n",
    "\n",
    "graph.add_edge(START, 'generate')\n",
    "graph.add_edge('generate', 'evaluate')\n",
    "\n",
    "graph.add_conditional_edges('evaluate', route_evaluation, {'approved': END, 'needs_improvement': 'optimize'})\n",
    "graph.add_edge('optimize', 'evaluate')\n",
    "\n",
    "workflow = graph.compile()\n",
    "\n",
    "workflow"
   ]
  },
  {
   "cell_type": "code",
   "execution_count": 12,
   "id": "63142c3a",
   "metadata": {},
   "outputs": [],
   "source": [
    "initial_state = {\n",
    "    \"topic\": \"srhberhb\",\n",
    "    \"iteration\": 1,\n",
    "    \"max_iteration\": 5\n",
    "}\n",
    "result = workflow.invoke(initial_state)"
   ]
  },
  {
   "cell_type": "code",
   "execution_count": 13,
   "id": "c3e05078",
   "metadata": {},
   "outputs": [
    {
     "data": {
      "text/plain": [
       "{'topic': 'srhberhb',\n",
       " 'tweet': '\"srhberhb\" is what my cat coughed up this morning. #IcelandVolcano #SorryNotSorry',\n",
       " 'evaluation': 'needs_improvement',\n",
       " 'feedback': \"The tweet attempts humor by comparing a word to a cat's cough and referencing the Iceland volcano. However, the humor is weak, and the comparison isn't particularly funny or original. The hashtag #SorryNotSorry feels tacked on and doesn't add to the joke. The tweet also lacks punchiness; it's not particularly attention-grabbing. The virality potential is low because it's not relatable or humorous enough to encourage sharing.\",\n",
       " 'iteration': 5,\n",
       " 'max_iteration': 5,\n",
       " 'tweet_history': ['Me trying to pronounce the name of that Icelandic volcano again. #srhberhb #Iceland #GoodLuck',\n",
       "  'Okay, here are a few options, playing with different angles of humor and virality potential, based on the \"unpronounceable Icelandic volcano name\" premise:\\n\\n**Option 1 (Playing on frustration/relatability):**\\n\\n> My therapist: \"Just say what you\\'re feeling.\"\\n> Me: *Tries to pronounce srhberhb*\\n> My therapist: \"Okay, maybe not *everything*.\" #Iceland #Volcano #Anxiety\\n\\n**Option 2 (Absurdist/Exaggerated):**\\n\\n> srhberhb is Icelandic for \"May cause spontaneous combustion of your tongue.\" #Iceland #Volcano #TIL\\n\\n**Option 3 (Pop Culture Reference - if appropriate for your audience):**\\n\\n> Voldemort: \"I am Lord...\"\\n> Me: *Whispers* srhberhb\\n> Voldemort: \"Okay, you win. Take the Elder Wand.\" #Iceland #HarryPotter #Volcano\\n\\n**Why these are better:**\\n\\n*   **Stronger Humor:** They use either relatable situations (therapy, anxiety), absurdity (tongue combustion), or pop culture references to amplify the humor.\\n*   **More Viral Hashtags:** I\\'ve kept Iceland and Volcano, but added #Anxiety, #TIL (Today I Learned), or #HarryPotter depending on the angle. These tap into broader, more active hashtag communities.\\n*   **Brevity:** All are well under the character limit.\\n*   **Intrigue:** Options 2 & 3 pique curiosity even if people don\\'t know the volcano, making them more likely to engage.\\n\\n**To choose the *best* one, consider:**\\n\\n*   **Your target audience:** Are they more likely to relate to anxiety humor, absurd humor, or a Harry Potter reference?\\n*   **Current trends:** Is Harry Potter trending? Is there a lot of talk about anxiety online?\\n*   **Your personal brand:** Which tone best fits your overall Twitter presence?\\n\\nGood luck!',\n",
       "  '**Option 1 (Playing on wordplay/struggle):**\\n\\n> Just tried to pronounce \"srhberhb.\" Pretty sure I accidentally summoned a demon. #Iceland #Volcano #SendHelp\\n\\n**Option 2 (Playing on absurdity):**\\n\\n> \"srhberhb\" is what happens when a cat walks across a keyboard in Iceland. #Volcano\\n\\n**Option 3 (Playing on pop culture):**\\n\\n> Voldemort\\'s weakness wasn\\'t Harry Potter, it was trying to pronounce \"srhberhb\". #Iceland #Volcano #HarryPotter',\n",
       "  'Okay, based on the feedback, here are a few options aiming for punchier humor, less reliance on specific knowledge, and a viral-friendly tone:\\n\\n**Option 1 (Focus on universal frustration):**\\n\\n> \"srhberhb\" is the sound I make trying to assemble IKEA furniture. #IcelandVolcano #Relatable\\n\\n**Option 2 (Dark Humor/Exaggeration):**\\n\\n> My therapist: \"Just breathe.\"\\n> Me, trying to pronounce \"srhberhb\": *chokes on air* #Iceland #Volcano\\n\\n**Option 3 (Playing on the sound/feeling):**\\n\\n> \"srhberhb\" feels like gargling gravel. My condolences, Iceland. #Volcano\\n\\n**Key changes and rationale:**\\n\\n*   **Shorter and Snappier:** All options are concise and to the point.\\n*   **Universal Themes:** Option 1 taps into the widely relatable frustration of IKEA assembly. Option 2 uses a therapy joke.\\n*   **Stronger Imagery/Sound Association:** Option 3 focuses on the unpleasant sound and feeling of the word itself.\\n*   **Less reliance on specific knowledge:** Avoided relying on specific knowledge.\\n*   **Humor Upgrade:** Shifted from mild observations to more exaggerated and relatable scenarios.',\n",
       "  '\"srhberhb\" is what my cat coughed up this morning. #IcelandVolcano #SorryNotSorry'],\n",
       " 'feedback_history': [\"The tweet is trying to be humorous by referencing the difficulty of pronouncing Icelandic volcano names, which is a common trope. The hashtags are weak and don't add much value. The humor is mild, and the virality potential is low because it's not particularly clever or relatable beyond a niche audience who remember the volcano. It's a well-formed tweet in terms of format, but lacks originality and strong humor.\",\n",
       "  \"This tweet is more of a breakdown of joke options than a tweet itself. It lacks originality as it's a guide, not a standalone humorous statement. The format is completely off for a tweet; it's an explanation, not a punchy, scroll-stopping piece of content. While it explores humor, it doesn't deliver any actual humor on its own. The virality potential is non-existent because it's not something people would retweet; it's an analysis. Brevity isn't even a factor because it's a collection of ideas, not a concise tweet. It needs to be an actual tweet, not instructions on how to write one.\",\n",
       "  \"Option 1 is weak; the demon summoning isn't particularly funny or original. Option 2 is slightly better but still not great; the cat-on-keyboard joke is overused. Option 3 is the strongest, connecting Voldemort to the unpronounceable name is clever, but it relies heavily on Harry Potter knowledge, limiting its appeal. Overall, the humor is mild, and the originality is lacking. None of them are particularly punchy or likely to go viral.\",\n",
       "  \"This tweet is not good. It's an explanation of possible tweets, not an actual tweet. There's no humor, originality, or virality potential because it's just a breakdown. Also, it's way too long for a tweet.\",\n",
       "  \"The tweet attempts humor by comparing a word to a cat's cough and referencing the Iceland volcano. However, the humor is weak, and the comparison isn't particularly funny or original. The hashtag #SorryNotSorry feels tacked on and doesn't add to the joke. The tweet also lacks punchiness; it's not particularly attention-grabbing. The virality potential is low because it's not relatable or humorous enough to encourage sharing.\"]}"
      ]
     },
     "execution_count": 13,
     "metadata": {},
     "output_type": "execute_result"
    }
   ],
   "source": [
    "result"
   ]
  },
  {
   "cell_type": "code",
   "execution_count": 14,
   "id": "cb352399",
   "metadata": {},
   "outputs": [
    {
     "name": "stdout",
     "output_type": "stream",
     "text": [
      "Me trying to pronounce the name of that Icelandic volcano again. #srhberhb #Iceland #GoodLuck\n",
      "Okay, here are a few options, playing with different angles of humor and virality potential, based on the \"unpronounceable Icelandic volcano name\" premise:\n",
      "\n",
      "**Option 1 (Playing on frustration/relatability):**\n",
      "\n",
      "> My therapist: \"Just say what you're feeling.\"\n",
      "> Me: *Tries to pronounce srhberhb*\n",
      "> My therapist: \"Okay, maybe not *everything*.\" #Iceland #Volcano #Anxiety\n",
      "\n",
      "**Option 2 (Absurdist/Exaggerated):**\n",
      "\n",
      "> srhberhb is Icelandic for \"May cause spontaneous combustion of your tongue.\" #Iceland #Volcano #TIL\n",
      "\n",
      "**Option 3 (Pop Culture Reference - if appropriate for your audience):**\n",
      "\n",
      "> Voldemort: \"I am Lord...\"\n",
      "> Me: *Whispers* srhberhb\n",
      "> Voldemort: \"Okay, you win. Take the Elder Wand.\" #Iceland #HarryPotter #Volcano\n",
      "\n",
      "**Why these are better:**\n",
      "\n",
      "*   **Stronger Humor:** They use either relatable situations (therapy, anxiety), absurdity (tongue combustion), or pop culture references to amplify the humor.\n",
      "*   **More Viral Hashtags:** I've kept Iceland and Volcano, but added #Anxiety, #TIL (Today I Learned), or #HarryPotter depending on the angle. These tap into broader, more active hashtag communities.\n",
      "*   **Brevity:** All are well under the character limit.\n",
      "*   **Intrigue:** Options 2 & 3 pique curiosity even if people don't know the volcano, making them more likely to engage.\n",
      "\n",
      "**To choose the *best* one, consider:**\n",
      "\n",
      "*   **Your target audience:** Are they more likely to relate to anxiety humor, absurd humor, or a Harry Potter reference?\n",
      "*   **Current trends:** Is Harry Potter trending? Is there a lot of talk about anxiety online?\n",
      "*   **Your personal brand:** Which tone best fits your overall Twitter presence?\n",
      "\n",
      "Good luck!\n",
      "**Option 1 (Playing on wordplay/struggle):**\n",
      "\n",
      "> Just tried to pronounce \"srhberhb.\" Pretty sure I accidentally summoned a demon. #Iceland #Volcano #SendHelp\n",
      "\n",
      "**Option 2 (Playing on absurdity):**\n",
      "\n",
      "> \"srhberhb\" is what happens when a cat walks across a keyboard in Iceland. #Volcano\n",
      "\n",
      "**Option 3 (Playing on pop culture):**\n",
      "\n",
      "> Voldemort's weakness wasn't Harry Potter, it was trying to pronounce \"srhberhb\". #Iceland #Volcano #HarryPotter\n",
      "Okay, based on the feedback, here are a few options aiming for punchier humor, less reliance on specific knowledge, and a viral-friendly tone:\n",
      "\n",
      "**Option 1 (Focus on universal frustration):**\n",
      "\n",
      "> \"srhberhb\" is the sound I make trying to assemble IKEA furniture. #IcelandVolcano #Relatable\n",
      "\n",
      "**Option 2 (Dark Humor/Exaggeration):**\n",
      "\n",
      "> My therapist: \"Just breathe.\"\n",
      "> Me, trying to pronounce \"srhberhb\": *chokes on air* #Iceland #Volcano\n",
      "\n",
      "**Option 3 (Playing on the sound/feeling):**\n",
      "\n",
      "> \"srhberhb\" feels like gargling gravel. My condolences, Iceland. #Volcano\n",
      "\n",
      "**Key changes and rationale:**\n",
      "\n",
      "*   **Shorter and Snappier:** All options are concise and to the point.\n",
      "*   **Universal Themes:** Option 1 taps into the widely relatable frustration of IKEA assembly. Option 2 uses a therapy joke.\n",
      "*   **Stronger Imagery/Sound Association:** Option 3 focuses on the unpleasant sound and feeling of the word itself.\n",
      "*   **Less reliance on specific knowledge:** Avoided relying on specific knowledge.\n",
      "*   **Humor Upgrade:** Shifted from mild observations to more exaggerated and relatable scenarios.\n",
      "\"srhberhb\" is what my cat coughed up this morning. #IcelandVolcano #SorryNotSorry\n"
     ]
    }
   ],
   "source": [
    "for tweet in result['tweet_history']:\n",
    "    print(tweet)"
   ]
  },
  {
   "cell_type": "code",
   "execution_count": null,
   "id": "2c3d025f",
   "metadata": {},
   "outputs": [],
   "source": []
  }
 ],
 "metadata": {
  "kernelspec": {
   "display_name": "genAI",
   "language": "python",
   "name": "python3"
  },
  "language_info": {
   "codemirror_mode": {
    "name": "ipython",
    "version": 3
   },
   "file_extension": ".py",
   "mimetype": "text/x-python",
   "name": "python",
   "nbconvert_exporter": "python",
   "pygments_lexer": "ipython3",
   "version": "3.10.14"
  }
 },
 "nbformat": 4,
 "nbformat_minor": 5
}
