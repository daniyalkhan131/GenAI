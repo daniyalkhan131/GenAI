{
 "cells": [
  {
   "cell_type": "markdown",
   "id": "9bf09165",
   "metadata": {},
   "source": [
    "### Built-in Tool"
   ]
  },
  {
   "cell_type": "markdown",
   "id": "61793d5d",
   "metadata": {},
   "source": [
    "#### DuckDuckGo Search"
   ]
  },
  {
   "cell_type": "code",
   "execution_count": 1,
   "id": "66fda222",
   "metadata": {},
   "outputs": [
    {
     "name": "stderr",
     "output_type": "stream",
     "text": [
      "/Users/daniyalkhan/anaconda3/envs/genAI/lib/python3.10/site-packages/langchain_community/utilities/duckduckgo_search.py:63: RuntimeWarning: This package (`duckduckgo_search`) has been renamed to `ddgs`! Use `pip install ddgs` instead.\n",
      "  with DDGS() as ddgs:\n"
     ]
    },
    {
     "name": "stdout",
     "output_type": "stream",
     "text": [
      "Check today's top 10 news stories, headline news, breaking news, latest news, politics news, sports news, entertainment news and … 1 day ago · Today's top India news headlines, news on Indian politics, elections, government, business, technology, and Bollywood. Top News Headlines Today: Find current Top Stories in India from India Today. Top news stories from world, politics, business, … 1 day ago · Read all India news and breaking news today from India on politics, business, entertainment, technology, sports, lifestyle … Welcome to The Hindu—your go-to source for today’s breaking news, top headlines, and live updates. Stay informed with the latest from …\n"
     ]
    }
   ],
   "source": [
    "from langchain_community.tools import DuckDuckGoSearchRun\n",
    "\n",
    "search_tool = DuckDuckGoSearchRun()\n",
    "\n",
    "results = search_tool.invoke('top news in india today')\n",
    "\n",
    "print(results)"
   ]
  },
  {
   "cell_type": "markdown",
   "id": "07196db9",
   "metadata": {},
   "source": [
    "#### Built-in Tool - Shell Tool"
   ]
  },
  {
   "cell_type": "code",
   "execution_count": 3,
   "id": "4c82e8a9",
   "metadata": {},
   "outputs": [
    {
     "name": "stdout",
     "output_type": "stream",
     "text": [
      "Executing command:\n",
      " whoami\n",
      "daniyalkhan\n",
      "\n"
     ]
    },
    {
     "name": "stderr",
     "output_type": "stream",
     "text": [
      "/Users/daniyalkhan/anaconda3/envs/genAI/lib/python3.10/site-packages/langchain_community/tools/shell/tool.py:33: UserWarning: The shell tool has no safeguards by default. Use at your own risk.\n",
      "  warnings.warn(\n"
     ]
    }
   ],
   "source": [
    "from langchain_community.tools import ShellTool\n",
    "\n",
    "shell_tool = ShellTool()\n",
    "\n",
    "results = shell_tool.invoke('whoami')\n",
    "\n",
    "print(results)"
   ]
  },
  {
   "cell_type": "markdown",
   "id": "32df6cf2",
   "metadata": {},
   "source": [
    "### Custom Tools"
   ]
  },
  {
   "cell_type": "markdown",
   "id": "ca028176",
   "metadata": {},
   "source": [
    "#### Method 1- Using tool decorator"
   ]
  },
  {
   "cell_type": "code",
   "execution_count": 4,
   "id": "7ebb9c31",
   "metadata": {},
   "outputs": [],
   "source": [
    "from langchain_core.tools import tool"
   ]
  },
  {
   "cell_type": "code",
   "execution_count": 5,
   "id": "e6017b06",
   "metadata": {},
   "outputs": [],
   "source": [
    "# Step 1 - create a function\n",
    "\n",
    "def multiply(a, b):\n",
    "    \"\"\"Multiply two numbers\"\"\"\n",
    "    return a*b"
   ]
  },
  {
   "cell_type": "code",
   "execution_count": 6,
   "id": "518498ba",
   "metadata": {},
   "outputs": [],
   "source": [
    "# Step 2 - add type hints\n",
    "\n",
    "def multiply(a: int, b:int) -> int:\n",
    "    \"\"\"Multiply two numbers\"\"\"\n",
    "    return a*b"
   ]
  },
  {
   "cell_type": "code",
   "execution_count": 7,
   "id": "ce6ec510",
   "metadata": {},
   "outputs": [],
   "source": [
    "# Step 3 - add tool decorator\n",
    "\n",
    "@tool\n",
    "def multiply(a: int, b:int) -> int:\n",
    "    \"\"\"Multiply two numbers\"\"\"\n",
    "    return a*b"
   ]
  },
  {
   "cell_type": "code",
   "execution_count": 8,
   "id": "bd6d6034",
   "metadata": {},
   "outputs": [],
   "source": [
    "result = multiply.invoke({\"a\":3, \"b\":5})"
   ]
  },
  {
   "cell_type": "code",
   "execution_count": 9,
   "id": "de0d9374",
   "metadata": {},
   "outputs": [
    {
     "name": "stdout",
     "output_type": "stream",
     "text": [
      "15\n"
     ]
    }
   ],
   "source": [
    "print(result)"
   ]
  },
  {
   "cell_type": "code",
   "execution_count": 10,
   "id": "c681a5fc",
   "metadata": {},
   "outputs": [
    {
     "name": "stdout",
     "output_type": "stream",
     "text": [
      "multiply\n",
      "Multiply two numbers\n",
      "{'a': {'title': 'A', 'type': 'integer'}, 'b': {'title': 'B', 'type': 'integer'}}\n"
     ]
    }
   ],
   "source": [
    "print(multiply.name)\n",
    "print(multiply.description)\n",
    "print(multiply.args)"
   ]
  },
  {
   "cell_type": "code",
   "execution_count": 11,
   "id": "4d065e6b",
   "metadata": {},
   "outputs": [
    {
     "name": "stdout",
     "output_type": "stream",
     "text": [
      "{'description': 'Multiply two numbers', 'properties': {'a': {'title': 'A', 'type': 'integer'}, 'b': {'title': 'B', 'type': 'integer'}}, 'required': ['a', 'b'], 'title': 'multiply', 'type': 'object'}\n"
     ]
    }
   ],
   "source": [
    "#llm see this instead of function\n",
    "print(multiply.args_schema.model_json_schema())"
   ]
  },
  {
   "cell_type": "markdown",
   "id": "f015aaeb",
   "metadata": {},
   "source": [
    "#### Method 2 - Using StructuredTool"
   ]
  },
  {
   "cell_type": "code",
   "execution_count": 12,
   "id": "c3764e08",
   "metadata": {},
   "outputs": [],
   "source": [
    "from langchain.tools import StructuredTool\n",
    "from pydantic import BaseModel, Field"
   ]
  },
  {
   "cell_type": "code",
   "execution_count": 13,
   "id": "e1d91a2d",
   "metadata": {},
   "outputs": [
    {
     "name": "stderr",
     "output_type": "stream",
     "text": [
      "/Users/daniyalkhan/anaconda3/envs/genAI/lib/python3.10/site-packages/pydantic/fields.py:814: PydanticDeprecatedSince20: Using extra keyword arguments on `Field` is deprecated and will be removed. Use `json_schema_extra` instead. (Extra keys: 'required'). Deprecated in Pydantic V2.0 to be removed in V3.0. See Pydantic V2 Migration Guide at https://errors.pydantic.dev/2.8/migration/\n",
      "  warn(\n",
      "/Users/daniyalkhan/anaconda3/envs/genAI/lib/python3.10/site-packages/pydantic/fields.py:814: PydanticDeprecatedSince20: Using extra keyword arguments on `Field` is deprecated and will be removed. Use `json_schema_extra` instead. (Extra keys: 'required'). Deprecated in Pydantic V2.0 to be removed in V3.0. See Pydantic V2 Migration Guide at https://errors.pydantic.dev/2.8/migration/\n",
      "  warn(\n"
     ]
    }
   ],
   "source": [
    "class MultiplyInput(BaseModel):\n",
    "    a: int = Field(required=True, description=\"The first number to add\")\n",
    "    b: int = Field(required=True, description=\"The second number to add\")"
   ]
  },
  {
   "cell_type": "code",
   "execution_count": 14,
   "id": "78040ea6",
   "metadata": {},
   "outputs": [],
   "source": [
    "def multiply_func(a: int, b: int) -> int:\n",
    "    return a * b"
   ]
  },
  {
   "cell_type": "code",
   "execution_count": 15,
   "id": "26ae5d28",
   "metadata": {},
   "outputs": [],
   "source": [
    "multiply_tool = StructuredTool.from_function(\n",
    "    func=multiply_func,\n",
    "    name=\"multiply\",\n",
    "    description=\"Multiply two numbers\",\n",
    "    args_schema=MultiplyInput\n",
    ")"
   ]
  },
  {
   "cell_type": "code",
   "execution_count": 16,
   "id": "3d5fdb75",
   "metadata": {},
   "outputs": [
    {
     "name": "stdout",
     "output_type": "stream",
     "text": [
      "9\n",
      "multiply\n",
      "Multiply two numbers\n",
      "{'a': {'description': 'The first number to add', 'required': True, 'title': 'A', 'type': 'integer'}, 'b': {'description': 'The second number to add', 'required': True, 'title': 'B', 'type': 'integer'}}\n"
     ]
    }
   ],
   "source": [
    "result = multiply_tool.invoke({'a':3, 'b':3})\n",
    "\n",
    "print(result)\n",
    "print(multiply_tool.name)\n",
    "print(multiply_tool.description)\n",
    "print(multiply_tool.args)"
   ]
  },
  {
   "cell_type": "markdown",
   "id": "276453d4",
   "metadata": {},
   "source": [
    "#### Method 3 - Using BaseTool Class"
   ]
  },
  {
   "cell_type": "code",
   "execution_count": 17,
   "id": "fa05f072",
   "metadata": {},
   "outputs": [],
   "source": [
    "from langchain.tools import BaseTool\n",
    "from typing import Type"
   ]
  },
  {
   "cell_type": "code",
   "execution_count": 18,
   "id": "cdfe3c4c",
   "metadata": {},
   "outputs": [
    {
     "name": "stderr",
     "output_type": "stream",
     "text": [
      "/Users/daniyalkhan/anaconda3/envs/genAI/lib/python3.10/site-packages/pydantic/fields.py:814: PydanticDeprecatedSince20: Using extra keyword arguments on `Field` is deprecated and will be removed. Use `json_schema_extra` instead. (Extra keys: 'required'). Deprecated in Pydantic V2.0 to be removed in V3.0. See Pydantic V2 Migration Guide at https://errors.pydantic.dev/2.8/migration/\n",
      "  warn(\n",
      "/Users/daniyalkhan/anaconda3/envs/genAI/lib/python3.10/site-packages/pydantic/fields.py:814: PydanticDeprecatedSince20: Using extra keyword arguments on `Field` is deprecated and will be removed. Use `json_schema_extra` instead. (Extra keys: 'required'). Deprecated in Pydantic V2.0 to be removed in V3.0. See Pydantic V2 Migration Guide at https://errors.pydantic.dev/2.8/migration/\n",
      "  warn(\n"
     ]
    }
   ],
   "source": [
    "# arg schema using pydantic\n",
    "\n",
    "class MultiplyInput(BaseModel):\n",
    "    a: int = Field(required=True, description=\"The first number to add\")\n",
    "    b: int = Field(required=True, description=\"The second number to add\")"
   ]
  },
  {
   "cell_type": "code",
   "execution_count": 19,
   "id": "17fbbe1a",
   "metadata": {},
   "outputs": [],
   "source": [
    "class MultiplyTool(BaseTool):\n",
    "    name: str = \"multiply\"\n",
    "    description: str = \"Multiply two numbers\"\n",
    "\n",
    "    args_schema: Type[BaseModel] = MultiplyInput\n",
    "\n",
    "    def _run(self, a: int, b: int) -> int:\n",
    "        return a * b"
   ]
  },
  {
   "cell_type": "code",
   "execution_count": 20,
   "id": "de5faa3b",
   "metadata": {},
   "outputs": [],
   "source": [
    "multiply_tool = MultiplyTool()"
   ]
  },
  {
   "cell_type": "code",
   "execution_count": 21,
   "id": "deacb277",
   "metadata": {},
   "outputs": [
    {
     "name": "stdout",
     "output_type": "stream",
     "text": [
      "9\n",
      "multiply\n",
      "Multiply two numbers\n",
      "{'a': {'description': 'The first number to add', 'required': True, 'title': 'A', 'type': 'integer'}, 'b': {'description': 'The second number to add', 'required': True, 'title': 'B', 'type': 'integer'}}\n"
     ]
    }
   ],
   "source": [
    "result = multiply_tool.invoke({'a':3, 'b':3})\n",
    "\n",
    "print(result)\n",
    "print(multiply_tool.name)\n",
    "print(multiply_tool.description)\n",
    "\n",
    "print(multiply_tool.args)"
   ]
  },
  {
   "cell_type": "markdown",
   "id": "682da284",
   "metadata": {},
   "source": [
    "### Toolkit"
   ]
  },
  {
   "cell_type": "code",
   "execution_count": 22,
   "id": "c8158fa1",
   "metadata": {},
   "outputs": [],
   "source": [
    "from langchain_core.tools import tool\n",
    "\n",
    "# Custom tools\n",
    "@tool\n",
    "def add(a: int, b: int) -> int:\n",
    "    \"\"\"Add two numbers\"\"\"\n",
    "    return a + b\n",
    "\n",
    "@tool\n",
    "def multiply(a: int, b: int) -> int:\n",
    "    \"\"\"Multiply two numbers\"\"\"\n",
    "    return a * b\n"
   ]
  },
  {
   "cell_type": "code",
   "execution_count": 23,
   "id": "aab31fd8",
   "metadata": {},
   "outputs": [],
   "source": [
    "class MathToolkit:\n",
    "    def get_tools(self):\n",
    "        return [add, multiply]\n"
   ]
  },
  {
   "cell_type": "code",
   "execution_count": 24,
   "id": "2fcbb894",
   "metadata": {},
   "outputs": [
    {
     "name": "stdout",
     "output_type": "stream",
     "text": [
      "add => Add two numbers\n",
      "multiply => Multiply two numbers\n"
     ]
    }
   ],
   "source": [
    "toolkit = MathToolkit()\n",
    "tools = toolkit.get_tools()\n",
    "\n",
    "for tool in tools:\n",
    "    print(tool.name, \"=>\", tool.description)\n"
   ]
  },
  {
   "cell_type": "markdown",
   "id": "09912212",
   "metadata": {},
   "source": [
    "### Tool Calling"
   ]
  },
  {
   "cell_type": "code",
   "execution_count": 25,
   "id": "0a5f1e1d",
   "metadata": {},
   "outputs": [],
   "source": [
    "from langchain_openai import ChatOpenAI\n",
    "from langchain_core.tools import tool\n",
    "from langchain_core.messages import HumanMessage\n",
    "import requests"
   ]
  },
  {
   "cell_type": "code",
   "execution_count": 26,
   "id": "96ba749a",
   "metadata": {},
   "outputs": [],
   "source": [
    "# tool create\n",
    "\n",
    "@tool\n",
    "def multiply(a: int, b: int) -> int:\n",
    "  \"\"\"Given 2 numbers a and b this tool returns their product\"\"\"\n",
    "  return a * b"
   ]
  },
  {
   "cell_type": "code",
   "execution_count": 28,
   "id": "77285c21",
   "metadata": {},
   "outputs": [
    {
     "name": "stdout",
     "output_type": "stream",
     "text": [
      "12\n"
     ]
    }
   ],
   "source": [
    "print(multiply.invoke({'a':3, 'b':4}))"
   ]
  },
  {
   "cell_type": "code",
   "execution_count": 29,
   "id": "60e1d097",
   "metadata": {},
   "outputs": [],
   "source": [
    "# tool binding"
   ]
  },
  {
   "cell_type": "code",
   "execution_count": 30,
   "id": "fe92a871",
   "metadata": {},
   "outputs": [],
   "source": [
    "llm = ChatOpenAI()"
   ]
  },
  {
   "cell_type": "code",
   "execution_count": 31,
   "id": "2e54a7bd",
   "metadata": {},
   "outputs": [
    {
     "data": {
      "text/plain": [
       "AIMessage(content='Hello! How can I assist you today?', additional_kwargs={'refusal': None}, response_metadata={'token_usage': {'completion_tokens': 9, 'prompt_tokens': 8, 'total_tokens': 17, 'completion_tokens_details': {'accepted_prediction_tokens': 0, 'audio_tokens': 0, 'reasoning_tokens': 0, 'rejected_prediction_tokens': 0}, 'prompt_tokens_details': {'audio_tokens': 0, 'cached_tokens': 0}}, 'model_name': 'gpt-3.5-turbo-0125', 'system_fingerprint': None, 'id': 'chatcmpl-BvmkOLFL8KaMowr1qf8zaspsmlFTo', 'service_tier': 'default', 'finish_reason': 'stop', 'logprobs': None}, id='run--99b3313b-5424-4bf5-ad31-fcd21a193520-0', usage_metadata={'input_tokens': 8, 'output_tokens': 9, 'total_tokens': 17, 'input_token_details': {'audio': 0, 'cache_read': 0}, 'output_token_details': {'audio': 0, 'reasoning': 0}})"
      ]
     },
     "execution_count": 31,
     "metadata": {},
     "output_type": "execute_result"
    }
   ],
   "source": [
    "llm.invoke('hi')"
   ]
  },
  {
   "cell_type": "code",
   "execution_count": 32,
   "id": "225d8d78",
   "metadata": {},
   "outputs": [],
   "source": [
    "llm_with_tools = llm.bind_tools([multiply])"
   ]
  },
  {
   "cell_type": "code",
   "execution_count": 33,
   "id": "4e41cc1e",
   "metadata": {},
   "outputs": [
    {
     "data": {
      "text/plain": [
       "AIMessage(content=\"I'm just a computer program, so I don't have feelings, but I'm here to help you with any questions or tasks you have. How can I assist you today?\", additional_kwargs={'refusal': None}, response_metadata={'token_usage': {'completion_tokens': 37, 'prompt_tokens': 58, 'total_tokens': 95, 'completion_tokens_details': {'accepted_prediction_tokens': 0, 'audio_tokens': 0, 'reasoning_tokens': 0, 'rejected_prediction_tokens': 0}, 'prompt_tokens_details': {'audio_tokens': 0, 'cached_tokens': 0}}, 'model_name': 'gpt-3.5-turbo-0125', 'system_fingerprint': None, 'id': 'chatcmpl-BvmkYhpNMgC0RmrTJNcPcEmSU51My', 'service_tier': 'default', 'finish_reason': 'stop', 'logprobs': None}, id='run--b3221af5-9eed-4575-bd8c-a86f2d7480cc-0', usage_metadata={'input_tokens': 58, 'output_tokens': 37, 'total_tokens': 95, 'input_token_details': {'audio': 0, 'cache_read': 0}, 'output_token_details': {'audio': 0, 'reasoning': 0}})"
      ]
     },
     "execution_count": 33,
     "metadata": {},
     "output_type": "execute_result"
    }
   ],
   "source": [
    "llm_with_tools.invoke('Hi how are you')"
   ]
  },
  {
   "cell_type": "code",
   "execution_count": 52,
   "id": "2319c23b",
   "metadata": {},
   "outputs": [
    {
     "data": {
      "text/plain": [
       "[HumanMessage(content='can you multiply 3 with 1000', additional_kwargs={}, response_metadata={})]"
      ]
     },
     "execution_count": 52,
     "metadata": {},
     "output_type": "execute_result"
    }
   ],
   "source": [
    "query = HumanMessage('can you multiply 3 with 1000')\n",
    "messages = [query]\n",
    "messages"
   ]
  },
  {
   "cell_type": "code",
   "execution_count": 53,
   "id": "d76359ae",
   "metadata": {},
   "outputs": [
    {
     "data": {
      "text/plain": [
       "AIMessage(content='', additional_kwargs={'tool_calls': [{'id': 'call_cR3dpN3PDkCqDSeMWYXyEZRd', 'function': {'arguments': '{\"a\":3,\"b\":1000}', 'name': 'multiply'}, 'type': 'function'}], 'refusal': None}, response_metadata={'token_usage': {'completion_tokens': 18, 'prompt_tokens': 63, 'total_tokens': 81, 'completion_tokens_details': {'accepted_prediction_tokens': 0, 'audio_tokens': 0, 'reasoning_tokens': 0, 'rejected_prediction_tokens': 0}, 'prompt_tokens_details': {'audio_tokens': 0, 'cached_tokens': 0}}, 'model_name': 'gpt-3.5-turbo-0125', 'system_fingerprint': None, 'id': 'chatcmpl-Bvmos0gUQMV8UhIjgxNbOxKh1cBWz', 'service_tier': 'default', 'finish_reason': 'tool_calls', 'logprobs': None}, id='run--249627b0-ee42-4743-a536-55f98bc5b3e9-0', tool_calls=[{'name': 'multiply', 'args': {'a': 3, 'b': 1000}, 'id': 'call_cR3dpN3PDkCqDSeMWYXyEZRd', 'type': 'tool_call'}], usage_metadata={'input_tokens': 63, 'output_tokens': 18, 'total_tokens': 81, 'input_token_details': {'audio': 0, 'cache_read': 0}, 'output_token_details': {'audio': 0, 'reasoning': 0}})"
      ]
     },
     "execution_count": 53,
     "metadata": {},
     "output_type": "execute_result"
    }
   ],
   "source": [
    "result = llm_with_tools.invoke(messages)\n",
    "result"
   ]
  },
  {
   "cell_type": "code",
   "execution_count": 54,
   "id": "5311ccb8",
   "metadata": {},
   "outputs": [],
   "source": [
    "messages.append(result)"
   ]
  },
  {
   "cell_type": "code",
   "execution_count": 55,
   "id": "c1464289",
   "metadata": {},
   "outputs": [
    {
     "data": {
      "text/plain": [
       "[HumanMessage(content='can you multiply 3 with 1000', additional_kwargs={}, response_metadata={}),\n",
       " AIMessage(content='', additional_kwargs={'tool_calls': [{'id': 'call_cR3dpN3PDkCqDSeMWYXyEZRd', 'function': {'arguments': '{\"a\":3,\"b\":1000}', 'name': 'multiply'}, 'type': 'function'}], 'refusal': None}, response_metadata={'token_usage': {'completion_tokens': 18, 'prompt_tokens': 63, 'total_tokens': 81, 'completion_tokens_details': {'accepted_prediction_tokens': 0, 'audio_tokens': 0, 'reasoning_tokens': 0, 'rejected_prediction_tokens': 0}, 'prompt_tokens_details': {'audio_tokens': 0, 'cached_tokens': 0}}, 'model_name': 'gpt-3.5-turbo-0125', 'system_fingerprint': None, 'id': 'chatcmpl-Bvmos0gUQMV8UhIjgxNbOxKh1cBWz', 'service_tier': 'default', 'finish_reason': 'tool_calls', 'logprobs': None}, id='run--249627b0-ee42-4743-a536-55f98bc5b3e9-0', tool_calls=[{'name': 'multiply', 'args': {'a': 3, 'b': 1000}, 'id': 'call_cR3dpN3PDkCqDSeMWYXyEZRd', 'type': 'tool_call'}], usage_metadata={'input_tokens': 63, 'output_tokens': 18, 'total_tokens': 81, 'input_token_details': {'audio': 0, 'cache_read': 0}, 'output_token_details': {'audio': 0, 'reasoning': 0}})]"
      ]
     },
     "execution_count": 55,
     "metadata": {},
     "output_type": "execute_result"
    }
   ],
   "source": [
    "messages"
   ]
  },
  {
   "cell_type": "code",
   "execution_count": 56,
   "id": "88e2deb2",
   "metadata": {},
   "outputs": [],
   "source": [
    "tool_result = multiply.invoke(result.tool_calls[0])"
   ]
  },
  {
   "cell_type": "code",
   "execution_count": 57,
   "id": "0e4ada5c",
   "metadata": {},
   "outputs": [
    {
     "data": {
      "text/plain": [
       "ToolMessage(content='3000', name='multiply', tool_call_id='call_cR3dpN3PDkCqDSeMWYXyEZRd')"
      ]
     },
     "execution_count": 57,
     "metadata": {},
     "output_type": "execute_result"
    }
   ],
   "source": [
    "tool_result"
   ]
  },
  {
   "cell_type": "code",
   "execution_count": 58,
   "id": "8ba6c9b4",
   "metadata": {},
   "outputs": [
    {
     "data": {
      "text/plain": [
       "[HumanMessage(content='can you multiply 3 with 1000', additional_kwargs={}, response_metadata={}),\n",
       " AIMessage(content='', additional_kwargs={'tool_calls': [{'id': 'call_cR3dpN3PDkCqDSeMWYXyEZRd', 'function': {'arguments': '{\"a\":3,\"b\":1000}', 'name': 'multiply'}, 'type': 'function'}], 'refusal': None}, response_metadata={'token_usage': {'completion_tokens': 18, 'prompt_tokens': 63, 'total_tokens': 81, 'completion_tokens_details': {'accepted_prediction_tokens': 0, 'audio_tokens': 0, 'reasoning_tokens': 0, 'rejected_prediction_tokens': 0}, 'prompt_tokens_details': {'audio_tokens': 0, 'cached_tokens': 0}}, 'model_name': 'gpt-3.5-turbo-0125', 'system_fingerprint': None, 'id': 'chatcmpl-Bvmos0gUQMV8UhIjgxNbOxKh1cBWz', 'service_tier': 'default', 'finish_reason': 'tool_calls', 'logprobs': None}, id='run--249627b0-ee42-4743-a536-55f98bc5b3e9-0', tool_calls=[{'name': 'multiply', 'args': {'a': 3, 'b': 1000}, 'id': 'call_cR3dpN3PDkCqDSeMWYXyEZRd', 'type': 'tool_call'}], usage_metadata={'input_tokens': 63, 'output_tokens': 18, 'total_tokens': 81, 'input_token_details': {'audio': 0, 'cache_read': 0}, 'output_token_details': {'audio': 0, 'reasoning': 0}}),\n",
       " ToolMessage(content='3000', name='multiply', tool_call_id='call_cR3dpN3PDkCqDSeMWYXyEZRd')]"
      ]
     },
     "execution_count": 58,
     "metadata": {},
     "output_type": "execute_result"
    }
   ],
   "source": [
    "messages.append(tool_result)\n",
    "messages"
   ]
  },
  {
   "cell_type": "code",
   "execution_count": 59,
   "id": "ed2e5e66",
   "metadata": {},
   "outputs": [
    {
     "data": {
      "text/plain": [
       "'Yes, the product of 3 and 1000 is 3000.'"
      ]
     },
     "execution_count": 59,
     "metadata": {},
     "output_type": "execute_result"
    }
   ],
   "source": [
    "llm_with_tools.invoke(messages).content"
   ]
  },
  {
   "cell_type": "code",
   "execution_count": null,
   "id": "f23f0b32",
   "metadata": {},
   "outputs": [],
   "source": []
  }
 ],
 "metadata": {
  "kernelspec": {
   "display_name": "genAI",
   "language": "python",
   "name": "python3"
  },
  "language_info": {
   "codemirror_mode": {
    "name": "ipython",
    "version": 3
   },
   "file_extension": ".py",
   "mimetype": "text/x-python",
   "name": "python",
   "nbconvert_exporter": "python",
   "pygments_lexer": "ipython3",
   "version": "3.10.14"
  }
 },
 "nbformat": 4,
 "nbformat_minor": 5
}
